{
 "cells": [
  {
   "cell_type": "code",
   "execution_count": null,
   "metadata": {},
   "outputs": [],
   "source": [
    "import numpy as np\n",
    "import matplotlib.pyplot as plt\n",
    "from torchvision import datasets, transforms\n",
    "from torch.utils.data import DataLoader\n",
    "from torch.autograd import Variable\n",
    "import torch.nn.functional as F\n",
    "import torch\n",
    "import FA\n",
    "import backprop\n",
    "import warnings\n",
    "warnings.filterwarnings(\"ignore\", category=UserWarning)\n",
    "\n",
    "device = torch.device('cuda' if torch.cuda.is_available() else 'cpu')\n",
    "print('device =',device)"
   ]
  },
  {
   "cell_type": "code",
   "execution_count": null,
   "metadata": {},
   "outputs": [],
   "source": [
    "BATCH_SIZE = 32\n",
    "loss_crossentropy = torch.nn.CrossEntropyLoss()\n",
    "loss_mse = torch.nn.MSELoss()\n",
    "\n",
    "train_loader = DataLoader(datasets.MNIST('./data', train=True, download=True,\n",
    "                                        transform=transforms.Compose([\n",
    "                                            transforms.ToTensor(),\n",
    "                                            transforms.Normalize((0.1307,), (0.3081,))\n",
    "                                        ])),\n",
    "                        batch_size=BATCH_SIZE, shuffle=True)\n",
    "test_loader = DataLoader(datasets.MNIST('./data', train=False, download=True,\n",
    "                                        transform=transforms.Compose([\n",
    "                                            transforms.ToTensor(),\n",
    "                                            transforms.Normalize((0.1307,), (0.3081,))\n",
    "                                        ])),\n",
    "                        batch_size=BATCH_SIZE, shuffle=True)"
   ]
  },
  {
   "cell_type": "code",
   "execution_count": null,
   "metadata": {},
   "outputs": [],
   "source": [
    "def train_model(model, optimizer, train_loader, num_epochs, criterion, batchSize=32):\n",
    "    logName = f\"{model.__class__.__name__}_{model.num_layers}\"\n",
    "    print(\"Training\", logName)\n",
    "    logger_train = open(f\"logs/{logName}.txt\", 'w')\n",
    "    for epoch in range(1, num_epochs+1):\n",
    "        for idx_batch, (inputs, targets) in enumerate(train_loader):\n",
    "            targetVectors = F.one_hot(targets, 10)\n",
    "            inputs = inputs.view(batchSize, -1)\n",
    "            inputs, targetVectors = Variable(inputs), Variable(targetVectors)\n",
    "            outputs = model(inputs.to(device))\n",
    "            loss = criterion(outputs, targetVectors.to(device).float())\n",
    "            model.zero_grad()\n",
    "            loss.backward()\n",
    "            optimizer.step()\n",
    "\n",
    "            if (idx_batch + 1) % 100 == 0:\n",
    "                train_log = 'epoch ' + str(epoch) + ' step ' + str(idx_batch + 1) + \\\n",
    "                            ' loss ' + str(loss.item())\n",
    "                print(f\"epoch {epoch};  step {idx_batch+1}          \", end='\\r')\n",
    "                logger_train.write(train_log + '\\n')\n",
    "\n",
    "\n",
    "def test_model(model, test_loader, criterion):\n",
    "    print(\"Testing\", model.__class__.__name__, \"with\", model.num_layers, \"layers\")\n",
    "    model.eval()  # Set the model to evaluation mode\n",
    "    test_loss = 0.0\n",
    "    correct = 0\n",
    "    total = 0\n",
    "    with torch.no_grad():\n",
    "        for data, targets in test_loader:\n",
    "            targetVectors = F.one_hot(targets, 10)\n",
    "            inputs = data.view(data.size(0), -1)\n",
    "            inputs, targetVectors, targets = Variable(inputs), Variable(targetVectors), Variable(targets)\n",
    "            outputs = model(inputs.to(device))\n",
    "            loss = criterion(outputs, targetVectors.to(device).float())\n",
    "            test_loss += loss.item() * inputs.size(0)\n",
    "            total += targets.size(0)\n",
    "            correct += (outputs.argmax(dim=1) == targets.to(device)).sum().item()\n",
    "\n",
    "    test_loss = test_loss / total\n",
    "    accuracy = 100 * correct / total\n",
    "    print('Test Loss: {:.4f}'.format(test_loss))\n",
    "    print('Accuracy: {:.2f}%'.format(accuracy)) "
   ]
  },
  {
   "cell_type": "code",
   "execution_count": null,
   "metadata": {},
   "outputs": [],
   "source": [
    "model_fa = FA.FANetwork(in_features=784, num_layers=4, num_hidden_list=[1000, 30, 20, 10], activation_function=F.tanh).to(device)\n",
    "optimizer_fa = torch.optim.SGD(model_fa.parameters(), lr=1e-4, momentum=0.9, weight_decay=0.001, nesterov=True)\n",
    "train_model(model_fa, optimizer_fa,train_loader, num_epochs=50, criterion=loss_mse, batchSize=BATCH_SIZE)"
   ]
  },
  {
   "cell_type": "code",
   "execution_count": null,
   "metadata": {},
   "outputs": [],
   "source": [
    "print(\"Testing Feedforward DFA Model...\")\n",
    "test_model(model_fa, test_loader, loss_mse)"
   ]
  },
  {
   "cell_type": "code",
   "execution_count": null,
   "metadata": {},
   "outputs": [],
   "source": [
    "model_bp = backprop.BackPropNetwork(in_features=784, num_layers=4, num_hidden_list=[1000, 30, 20, 10]).to(device)\n",
    "optimizer_bp = torch.optim.SGD(model_bp.parameters(), lr=1e-4, momentum=0.9, weight_decay=0.001, nesterov=True)\n",
    "train_model(model_bp, optimizer_bp, train_loader, num_epochs=50, criterion=loss_mse, batchSize=BATCH_SIZE)"
   ]
  },
  {
   "cell_type": "code",
   "execution_count": null,
   "metadata": {},
   "outputs": [],
   "source": [
    "print(\"\\nTesting BackProp Model...\")\n",
    "test_model(model_bp, test_loader, loss_mse)"
   ]
  }
 ],
 "metadata": {
  "kernelspec": {
   "display_name": "Python 3",
   "language": "python",
   "name": "python3"
  },
  "language_info": {
   "codemirror_mode": {
    "name": "ipython",
    "version": 3
   },
   "file_extension": ".py",
   "mimetype": "text/x-python",
   "name": "python",
   "nbconvert_exporter": "python",
   "pygments_lexer": "ipython3",
   "version": "3.11.9"
  }
 },
 "nbformat": 4,
 "nbformat_minor": 2
}
